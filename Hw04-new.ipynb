{
 "cells": [
  {
   "cell_type": "code",
   "execution_count": 85,
   "id": "e623bdcf-5f16-421f-8ca7-38864d19a913",
   "metadata": {},
   "outputs": [
    {
     "name": "stdout",
     "output_type": "stream",
     "text": [
      "a = [0 1 2 3 4 5 6 7 8 9]\n",
      "b = [0 1 2 3 4 5 6 7 8 9]\n"
     ]
    }
   ],
   "source": [
    "#1. Створіть одновимірний масив (вектор) з першими 10-ма натуральними числами та виведіть його значення.\n",
    "import numpy as np\n",
    "a = np.array([n for n in range(10)], dtype=int)\n",
    "b = np.arange(10)\n",
    "print('a =',a)\n",
    "print('b =',b)"
   ]
  },
  {
   "cell_type": "code",
   "execution_count": 4,
   "id": "7a7a7097-fd9a-499c-b9af-a7d8136bc264",
   "metadata": {},
   "outputs": [
    {
     "name": "stdout",
     "output_type": "stream",
     "text": [
      "[[0 0 0]\n",
      " [0 0 0]\n",
      " [0 0 0]]\n"
     ]
    }
   ],
   "source": [
    "#2 Створіть двовимірний масив (матрицю) розміром 3x3, заповніть його нулями та виведіть його значення.\n",
    "zero = np.zeros((3, 3), dtype=int)\n",
    "print(zero)"
   ]
  },
  {
   "cell_type": "code",
   "execution_count": 18,
   "id": "8099d11e-26d4-47da-b3e9-0464206fdf57",
   "metadata": {},
   "outputs": [
    {
     "name": "stdout",
     "output_type": "stream",
     "text": [
      "[[ 7  5  3  5  6]\n",
      " [10  7  9  1  6]\n",
      " [ 3 10  1  2  5]\n",
      " [ 8  4  1  2  4]\n",
      " [10  8  6  7  6]]\n"
     ]
    }
   ],
   "source": [
    "#3 Створіть масив розміром 5x5, заповніть його випадковими цілими числами в діапазоні від 1 до 10 та виведіть його значення.\n",
    "b = np.random.randint(1,11,size=(5, 5))\n",
    "print(b)"
   ]
  },
  {
   "cell_type": "code",
   "execution_count": 19,
   "id": "5551789b-4859-44df-ad83-a5d23ea57bcb",
   "metadata": {},
   "outputs": [
    {
     "name": "stdout",
     "output_type": "stream",
     "text": [
      "[[0.58906469 0.91185476 0.97110469 0.34052424]\n",
      " [0.79053294 0.12071145 0.12979969 0.50706686]\n",
      " [0.95867117 0.85668846 0.16009355 0.14564996]\n",
      " [0.91204422 0.98766145 0.57763846 0.07866346]]\n"
     ]
    }
   ],
   "source": [
    "#4 Створіть масив розміром 4x4, заповніть його випадковими дійсними числами в діапазоні від 0 до 1 та виведіть його значення.\n",
    "b = np.random.random((4, 4))\n",
    "print(b)"
   ]
  },
  {
   "cell_type": "code",
   "execution_count": 35,
   "id": "25d25a71-aec2-4e39-8f2d-5e18e2568e5d",
   "metadata": {},
   "outputs": [
    {
     "name": "stdout",
     "output_type": "stream",
     "text": [
      "a = [ 9  9  8  1 10] , b = [5 1 2 9 1]\n",
      "a + b = [14 10 10 10 11]\n",
      "a - b = [ 4  8  6 -8  9]\n",
      "a * b = [45  9 16  9 10]\n"
     ]
    }
   ],
   "source": [
    "#5 Створіть два одновимірних масиви розміром 5, заповніть їх випадковими цілими числами в діапазоні від 1 до 10 та виконайте на них поелементні операції додавання, віднімання та множення.\n",
    "a = np.random.randint(1,11,5)\n",
    "b = np.random.randint(1,11,5)\n",
    "print('a =',a,', b =',b)\n",
    "print('a + b =',a  +b)\n",
    "print('a - b =',a - b)\n",
    "print('a * b =',a * b)"
   ]
  },
  {
   "cell_type": "code",
   "execution_count": 38,
   "id": "ef7a89e0-b2f2-4958-a7c2-ec8e2d4c3d14",
   "metadata": {},
   "outputs": [
    {
     "name": "stdout",
     "output_type": "stream",
     "text": [
      "a = [9 6 6 8 8 7 2] , b = [6 3 3 4 3 5 8]\n",
      "скалярний добуток: 197\n"
     ]
    }
   ],
   "source": [
    "#6 Створіть два вектори розміром 7, заповніть довільними числами та знайдіть їх скалярний добуток.\n",
    "a = np.random.randint(10,size=7)\n",
    "b = np.random.randint(10,size=7)\n",
    "print('a =',a,', b =',b)\n",
    "print('скалярний добуток:', np.dot(a, b))"
   ]
  },
  {
   "cell_type": "code",
   "execution_count": 43,
   "id": "bd1d9764-5c39-421f-a025-8fd66d874c8a",
   "metadata": {},
   "outputs": [
    {
     "name": "stdout",
     "output_type": "stream",
     "text": [
      "Перемноження неможливо\n",
      "a * b = [[27 35]\n",
      " [12 30]]\n",
      "a * b = [[10 45 10]\n",
      " [49 32 63]]\n"
     ]
    }
   ],
   "source": [
    "#7 Створіть дві матриці розміром 2x2 та 2x3, заповніть їх випадковими цілими числами в діапазоні від 1 до 10 та перемножте їх між собою.\n",
    "a = np.random.randint(1,11,size=(2, 2))\n",
    "b = np.random.randint(1,11,size=(2, 3))\n",
    "try:\n",
    "    print('a * b =', a * b)\n",
    "except:\n",
    "    print(\"Перемноження неможливо\")\n",
    "a = np.random.randint(1,11,size=(2, 2))\n",
    "b = np.random.randint(1,11,size=(2, 2))\n",
    "print('a * b =', a * b)\n",
    "a = np.random.randint(1,11,size=(2, 3))\n",
    "b = np.random.randint(1,11,size=(2, 3))\n",
    "print('a * b =', a * b)"
   ]
  },
  {
   "cell_type": "code",
   "execution_count": 44,
   "id": "8134ffbf-92a1-486b-93e3-e173bb1c3b93",
   "metadata": {},
   "outputs": [
    {
     "name": "stdout",
     "output_type": "stream",
     "text": [
      "[[ 5  7  3  4  2]\n",
      " [ 2  2  8 10 10]\n",
      " [ 3  9  3  4  5]\n",
      " [ 2  5  8  8  7]\n",
      " [ 2  6  7  7  3]]\n",
      "[[ 0.37458746 -0.07343234 -0.22772277  0.2970297  -0.31848185]\n",
      " [-0.09570957 -0.03630363  0.16831683 -0.08910891  0.11221122]\n",
      " [ 0.09735974 -0.419967   -0.25742574  0.9009901  -0.33828383]\n",
      " [-0.11386139  0.48267327  0.14851485 -1.01980198  0.5990099 ]\n",
      " [-0.01980198 -0.02475248  0.06930693  0.25742574 -0.28712871]]\n"
     ]
    }
   ],
   "source": [
    "#8 Створіть матрицю розміром 3x3, заповніть її випадковими цілими числами в діапазоні від 1 до 10 та знайдіть її обернену матрицю.\n",
    "b = np.random.randint(1,11,size=(5, 5))\n",
    "print(b)\n",
    "a_inv = np.linalg.inv(b)\n",
    "print(a_inv)"
   ]
  },
  {
   "cell_type": "code",
   "execution_count": 49,
   "id": "9249c6a6-715e-4e37-b693-e718a93a8803",
   "metadata": {},
   "outputs": [
    {
     "name": "stdout",
     "output_type": "stream",
     "text": [
      "a =  [[0.49098585 0.57890118 0.03821286 0.42256759 0.32126956]\n",
      " [0.91597577 0.17530866 0.8932807  0.62381649 0.44281806]\n",
      " [0.31830346 0.93429149 0.44381954 0.20885123 0.04789399]\n",
      " [0.50879726 0.64819119 0.33527443 0.86996898 0.58258206]\n",
      " [0.40722123 0.93098779 0.73565423 0.34334104 0.01647672]]\n",
      "a_trans = [[0.49098585 0.91597577 0.31830346 0.50879726 0.40722123]\n",
      " [0.57890118 0.17530866 0.93429149 0.64819119 0.93098779]\n",
      " [0.03821286 0.8932807  0.44381954 0.33527443 0.73565423]\n",
      " [0.42256759 0.62381649 0.20885123 0.86996898 0.34334104]\n",
      " [0.32126956 0.44281806 0.04789399 0.58258206 0.01647672]]\n"
     ]
    }
   ],
   "source": [
    "#9 Створіть матрицю розміром 4x4, заповніть її випадковими дійсними числами в діапазоні від 0 до 1 та транспонуйте її.\n",
    "a = np.random.random((5,5))\n",
    "print('a = ', a)\n",
    "a_trans = a.T\n",
    "print('a_trans =',a_trans)"
   ]
  },
  {
   "cell_type": "code",
   "execution_count": 58,
   "id": "b09d9006-63ac-4d9b-a6b0-894228f92669",
   "metadata": {},
   "outputs": [
    {
     "name": "stdout",
     "output_type": "stream",
     "text": [
      "a = [[1 7 5 7]\n",
      " [7 7 5 6]\n",
      " [1 7 7 6]] \n",
      "b = [9 5 4 6]\n",
      "********************\n",
      "a * b = [[ 9 35 20 42]\n",
      " [63 35 20 36]\n",
      " [ 9 35 28 36]]\n"
     ]
    }
   ],
   "source": [
    "#10 Створіть матрицю розміром 3x4 та вектор розміром 4, заповніть їх випадковими цілими числами в діапазоні від 1 до 10 та перемножте матрицю на вектор.\n",
    "a = np.random.randint(1,11,size=(3, 4))\n",
    "b = np.random.randint(1,11,size=4)\n",
    "print('a =',a,'\\nb =',b, end='\\n'+'*'*20+'\\n')\n",
    "print('a * b =', a * b)"
   ]
  },
  {
   "cell_type": "code",
   "execution_count": 60,
   "id": "665b6577-46b7-44c7-89c4-3ad7ba2f572d",
   "metadata": {},
   "outputs": [
    {
     "name": "stdout",
     "output_type": "stream",
     "text": [
      "a = [[0.15594041 0.02042987 0.73455094]\n",
      " [0.16564497 0.44702527 0.07429604]] \n",
      "b = [0.32126146 0.47592414 0.31816757]\n",
      "****************************************\n",
      "a * b = [[0.05009764 0.00972307 0.23371029]\n",
      " [0.05321534 0.21275011 0.02363859]]\n"
     ]
    }
   ],
   "source": [
    "#11 Створіть матрицю розміром 2x3 та вектор розміром 3, заповніть їх випадковими дійсними числами в діапазоні від 0 до 1 та перемножте матрицю на вектор.\n",
    "a = np.random.random((2,3))\n",
    "b = np.random.random(3)\n",
    "print('a =',a,'\\nb =',b, end='\\n'+'*'*40+'\\n')\n",
    "print('a * b =', a * b)"
   ]
  },
  {
   "cell_type": "code",
   "execution_count": 65,
   "id": "ee65a72c-6121-49ae-8012-e48b26d9d0b3",
   "metadata": {},
   "outputs": [
    {
     "name": "stdout",
     "output_type": "stream",
     "text": [
      "a = [[9 1]\n",
      " [1 1]] \n",
      "b = [[9 3]\n",
      " [4 1]]\n",
      "********************\n",
      "поєлементне множення a * b =\n",
      " [[81  3]\n",
      " [ 4  1]]\n"
     ]
    }
   ],
   "source": [
    "#12 Створіть дві матриці розміром 2x2, заповніть їх випадковими цілими числами в діапазоні від 1 до 10 та виконайте їхнє поелементне множення.\n",
    "a = np.random.randint(1,11,size=(2, 2))\n",
    "b = np.random.randint(1,11,size=(2, 2))\n",
    "print('a =',a,'\\nb =',b, end='\\n'+'*'*20+'\\n')\n",
    "print('поєлементне множення a * b =\\n', a * b)"
   ]
  },
  {
   "cell_type": "code",
   "execution_count": 64,
   "id": "a32a0be2-c5de-42dd-a6ca-f9a024da0f2d",
   "metadata": {},
   "outputs": [
    {
     "name": "stdout",
     "output_type": "stream",
     "text": [
      "a = [[5 5]\n",
      " [3 2]] \n",
      "b = [[8 8]\n",
      " [3 8]]\n",
      "********************\n",
      "добуток матриці a та матриці b =\n",
      " [[55 80]\n",
      " [30 40]]\n"
     ]
    }
   ],
   "source": [
    "#13 Створіть дві матриці розміром 2x2, заповніть їх випадковими цілими числами в діапазоні від 1 до 10 та знайдіть їх добуток.\n",
    "a = np.random.randint(1,11,size=(2, 2))\n",
    "b = np.random.randint(1,11,size=(2, 2))\n",
    "print('a =',a,'\\nb =',b, end='\\n'+'*'*20+'\\n')\n",
    "c = np.dot(a, b)\n",
    "print('добуток матриці a та матриці b =\\n', c)"
   ]
  },
  {
   "cell_type": "code",
   "execution_count": 67,
   "id": "d1540c52-fb55-4299-a0f0-74e8c0dd6f72",
   "metadata": {},
   "outputs": [
    {
     "name": "stdout",
     "output_type": "stream",
     "text": [
      "[[50 47 46 43 71]\n",
      " [17 42 57 74 92]\n",
      " [10 49 88 31 68]\n",
      " [94  8 74 73 94]\n",
      " [47 44 88 69 20]]\n",
      "Сумма єлементів матриці = 1396\n"
     ]
    }
   ],
   "source": [
    "#14 Створіть матрицю розміром 5x5, заповніть її випадковими цілими числами в діапазоні від 1 до 100 та знайдіть суму елементів матриці.\n",
    "a = np.random.randint(1,101,size=(5, 5))\n",
    "print(a)\n",
    "print('Сумма єлементів матриці =',a.sum())"
   ]
  },
  {
   "cell_type": "code",
   "execution_count": 72,
   "id": "7cd5339f-20c5-400b-9b0d-028fc45394fd",
   "metadata": {},
   "outputs": [
    {
     "name": "stdout",
     "output_type": "stream",
     "text": [
      "a =\n",
      "[[ 8  6  8  1]\n",
      " [ 5  6  7  9]\n",
      " [ 2  3 10  3]\n",
      " [10  1  5  7]]\n",
      "b =\n",
      "[[ 7  4  1  7]\n",
      " [10 10  2 10]\n",
      " [10  4  4  4]\n",
      " [ 6  4  8  1]]\n",
      "a - b =\n",
      " [[ 1  2  7 -6]\n",
      " [-5 -4  5 -1]\n",
      " [-8 -1  6 -1]\n",
      " [ 4 -3 -3  6]]\n"
     ]
    }
   ],
   "source": [
    "#15 Створіть дві матриці розміром 4x4, заповніть їх випадковими цілими числами в діапазоні від 1 до 10 та знайдіть їхню різницю.\n",
    "a = np.random.randint(1,11,size=(4, 4))\n",
    "b = np.random.randint(1,11,size=(4, 4))\n",
    "print('a =',a,'b =', b, sep='\\n')\n",
    "print('a - b =\\n', a-b)"
   ]
  },
  {
   "cell_type": "code",
   "execution_count": 102,
   "id": "bbd6fa7c-3d96-4b33-9a58-20e61fc9f004",
   "metadata": {},
   "outputs": [
    {
     "name": "stdout",
     "output_type": "stream",
     "text": [
      "a =\n",
      "[[0.88655203 0.90427546 0.84382608]\n",
      " [0.33007804 0.27045276 0.68987384]\n",
      " [0.02628602 0.12216993 0.97428444]]\n",
      "b =\n",
      "[2.63465357 1.29040465 1.1227404 ]\n"
     ]
    }
   ],
   "source": [
    "#16 Створіть матрицю розміром 3x3, заповніть її випадковими дійсними числами в діапазоні від 0 до 1 та знайдіть вектор-стовпчик, що містить суму елементів кожного рядка матриці.\n",
    "a = np.random.random((3,3))\n",
    "print('a =', a, sep='\\n')\n",
    "b = np.array([sum(n) for n in a], dtype=float)\n",
    "#b=b.T\n",
    "print('b =', b, sep='\\n')"
   ]
  },
  {
   "cell_type": "code",
   "execution_count": 91,
   "id": "1ed45548-531a-407f-bb09-59d1201bbff7",
   "metadata": {},
   "outputs": [
    {
     "name": "stdout",
     "output_type": "stream",
     "text": [
      "a =\n",
      "[[7 7 8 1]\n",
      " [2 4 6 1]\n",
      " [4 4 7 1]]\n",
      "b =\n",
      "[[49 49 64  1]\n",
      " [ 4 16 36  1]\n",
      " [16 16 49  1]]\n"
     ]
    }
   ],
   "source": [
    "#17 Створіть матрицю розміром 3x4 з довільними цілими числами і створінь матрицю з квадратами цих чисел.\n",
    "a = np.random.randint(1, 11, size=(3, 4))\n",
    "print('a =', a, sep='\\n')\n",
    "\n",
    "b = np.array([n ** 2 for n in a], dtype=int)\n",
    "print('b =', b, sep='\\n')"
   ]
  },
  {
   "cell_type": "code",
   "execution_count": 81,
   "id": "6bea0594-3ad9-401b-8107-9854d387803a",
   "metadata": {},
   "outputs": [
    {
     "name": "stdout",
     "output_type": "stream",
     "text": [
      "a = [48 26 19  7]\n",
      "b = [6.92820323 5.09901951 4.35889894 2.64575131]\n"
     ]
    }
   ],
   "source": [
    "#18 Створіть вектор розміром 4, заповніть його випадковими цілими числами в діапазоні від 1 до 50 та знайдіть вектор з квадратними коренями цих чисел.\n",
    "a = np.random.randint(1, 51, size=(4))\n",
    "print('a =', a)\n",
    "b = np.array([n ** 0.5 for n in a], dtype=float)\n",
    "print('b =', b)"
   ]
  },
  {
   "cell_type": "code",
   "execution_count": null,
   "id": "5c13ff21-2bef-472a-98c2-6eec3f4d8a83",
   "metadata": {},
   "outputs": [],
   "source": []
  }
 ],
 "metadata": {
  "kernelspec": {
   "display_name": "Python 3 (ipykernel)",
   "language": "python",
   "name": "python3"
  },
  "language_info": {
   "codemirror_mode": {
    "name": "ipython",
    "version": 3
   },
   "file_extension": ".py",
   "mimetype": "text/x-python",
   "name": "python",
   "nbconvert_exporter": "python",
   "pygments_lexer": "ipython3",
   "version": "3.12.0"
  }
 },
 "nbformat": 4,
 "nbformat_minor": 5
}
