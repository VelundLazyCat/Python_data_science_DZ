{
 "cells": [
  {
   "cell_type": "code",
   "execution_count": 39,
   "id": "b934e2f4-96f2-4011-b69a-f525c99d0928",
   "metadata": {},
   "outputs": [],
   "source": [
    "text= '''The Orbiter Discovery, OV-103, is considered eligible for listing in the National Register of Historic Places (NRHP) \n",
    "in the context of the U.S. Space Shuttle Program (1969-2011) under Criterion A in the areas of Space Exploration and Transportation \n",
    "and under Criterion C in the area of Engineering. Because it has achieved significance within the past fifty years, Criteria Consideration G applies. \n",
    "Under Criterion A, Discovery is significant as the oldest of the three extant orbiter vehicles constructed for the Space Shuttle Program (SSP), \n",
    "the longest running American space program to date; she was the third of five orbiters built by NASA. Unlike the Mercury, Gemini, and Apollo programs, \n",
    "the SSP’s emphasis was on cost effectiveness and reusability, and eventually the construction of a space station. Including her maiden voyage \n",
    "(launched August 30, 1984), Discovery flew to space thirty-nine times, more than any of the other four orbiters; she was also the first orbiter \n",
    "to fly twenty missions. She had the honor of being chosen as the Return to Flight vehicle after both the Challenger and Columbia accidents. \n",
    "Discovery was the first shuttle to fly with the redesigned SRBs, a result of the Challenger accident, and the first shuttle to fly with the Phase II \n",
    "and Block I SSME. Discovery also carried the Hubble Space Telescope to orbit and performed two of the five servicing missions to the observatory. \n",
    "She flew the first and last dedicated Department of Defense (DoD) missions, as well as the first unclassified defense-related mission. \n",
    "In addition, Discovery was vital to the construction of the International Space Station (ISS); she flew thirteen of the thirty-seven \n",
    "total missions flown to the station by a U.S. Space Shuttle. She was the first orbiter to dock to the ISS, and the first to perform \n",
    "an exchange of a resident crew. Under Criterion C, Discovery is significant as a feat of engineering. According to Wayne Hale, \n",
    "a flight director from Johnson Space Center, the Space Shuttle orbiter represents a “huge technological leap from expendable rockets and capsules \n",
    "to a reusable, winged, hypersonic, cargo-carrying spacecraft.” Although her base structure followed a conventional aircraft design, \n",
    "she used advanced materials that both minimized her weight for cargo-carrying purposes and featured low thermal expansion ratios, which provided\n",
    "a stable base for her Thermal Protection System (TPS) materials. The Space Shuttle orbiter also featured the first reusable TPS; all previous spacefligh\n",
    "vehicles had a single-use, ablative heat shield. Other notable engineering achievements of the orbiter included the first reusable orbital propulsion\n",
    "system, and the first two-fault-tolerant Integrated Avionics System. As Hale stated, the Space Shuttle remains “the largest, fastest,\n",
    "winged hypersonic aircraft in history,” having regularly flown at twenty-five times the speed of sound.'''"
   ]
  },
  {
   "cell_type": "code",
   "execution_count": 40,
   "id": "cd1ec6cb-db40-402a-a899-c0bfd7cbbeaf",
   "metadata": {},
   "outputs": [],
   "source": [
    "import spacy\n",
    "from spacy.lang.en.stop_words import STOP_WORDS\n",
    "from string import punctuation\n",
    "from heapq import nlargest\n"
   ]
  },
  {
   "cell_type": "code",
   "execution_count": 41,
   "id": "499895a5-b05e-4038-ac4e-81c880cb8a1e",
   "metadata": {},
   "outputs": [],
   "source": [
    "extra_words=list(STOP_WORDS)+list(punctuation)+['\\n']"
   ]
  },
  {
   "cell_type": "code",
   "execution_count": 42,
   "id": "5ef4ed6e-fbbc-4fc4-ae2e-6f8db7859700",
   "metadata": {},
   "outputs": [],
   "source": [
    "nlp = spacy.load('en_core_web_sm')"
   ]
  },
  {
   "cell_type": "code",
   "execution_count": 43,
   "id": "b09a0364-c90e-4ed9-a505-eff2caf649a2",
   "metadata": {},
   "outputs": [],
   "source": [
    "my_text = nlp(text)"
   ]
  },
  {
   "cell_type": "code",
   "execution_count": 44,
   "id": "f14de77b-cf0c-4f63-9d76-814887ecbb06",
   "metadata": {},
   "outputs": [],
   "source": [
    "tokens=[token.text for token in my_text]\n",
    "freq_of_word=dict()"
   ]
  },
  {
   "cell_type": "code",
   "execution_count": 45,
   "id": "3fda6b52-de6f-4eaa-8061-8fb601cee137",
   "metadata": {},
   "outputs": [],
   "source": [
    "for word in my_text:\n",
    "    if word.text.lower() not in list(STOP_WORDS):\n",
    "        if word.text.lower() not in punctuation:\n",
    "            if word.text not in freq_of_word.keys():\n",
    "                freq_of_word[word.text] = 1\n",
    "            else:\n",
    "                freq_of_word[word.text] += 1"
   ]
  },
  {
   "cell_type": "code",
   "execution_count": 27,
   "id": "b1114c31-a0f2-49f4-bca6-b7452bebfd00",
   "metadata": {},
   "outputs": [],
   "source": [
    "# Maximum frequency of word\n",
    "max_freq=max(freq_of_word.values())"
   ]
  },
  {
   "cell_type": "code",
   "execution_count": 46,
   "id": "38bcfdb0-0d39-479e-be5f-428f0d30d330",
   "metadata": {},
   "outputs": [],
   "source": [
    "# Normalization of word frequency\n",
    "for word in freq_of_word.keys():\n",
    "    freq_of_word[word]=freq_of_word[word]/max_freq"
   ]
  },
  {
   "cell_type": "code",
   "execution_count": 47,
   "id": "cec28ba9-04e6-4bf6-861b-682df2c93ad6",
   "metadata": {},
   "outputs": [],
   "source": [
    "# In this part, each sentence is weighed based on how often it contains the token.\n",
    "sent_tokens= [sent for sent in my_text.sents]\n",
    "sent_scores = dict()\n",
    "for sent in sent_tokens:\n",
    "    for word in sent:\n",
    "        if word.text.lower() in freq_of_word.keys():\n",
    "            if sent not in sent_scores.keys():                            \n",
    "                sent_scores[sent]=freq_of_word[word.text.lower()]\n",
    "            else:\n",
    "                sent_scores[sent]+=freq_of_word[word.text.lower()]"
   ]
  },
  {
   "cell_type": "code",
   "execution_count": 48,
   "id": "73ac1294-85f0-490b-a907-a1b39d21eace",
   "metadata": {},
   "outputs": [],
   "source": [
    "len_tokens=int(len(sent_tokens)*0.2)"
   ]
  },
  {
   "cell_type": "code",
   "execution_count": 49,
   "id": "3fe47653-33d1-490a-bc28-3b3135c956c8",
   "metadata": {},
   "outputs": [],
   "source": [
    "# Summary for the sentences with maximum score. Here, each sentence in the list is of spacy.span type\n",
    "summary = nlargest(n = len_tokens, iterable = sent_scores,key=sent_scores.get)"
   ]
  },
  {
   "cell_type": "code",
   "execution_count": 50,
   "id": "a94de45d-9c1c-4a4f-b0ff-865ab9bc68a7",
   "metadata": {},
   "outputs": [],
   "source": [
    "# Prepare for final summary\n",
    "final_summary=[word.text for word in summary]"
   ]
  },
  {
   "cell_type": "code",
   "execution_count": 51,
   "id": "81a7755a-d59d-4786-89e7-52d036701cfd",
   "metadata": {},
   "outputs": [],
   "source": [
    "#convert to a string\n",
    "summary=\" \".join(final_summary)"
   ]
  },
  {
   "cell_type": "code",
   "execution_count": 54,
   "id": "2ae987f3-fab9-4962-9b11-726d25917c5c",
   "metadata": {},
   "outputs": [
    {
     "name": "stdout",
     "output_type": "stream",
     "text": [
      "**************************************************\n",
      "Summary of the text\n",
      "Length of summarized text: 713\n",
      "************************************************** \n",
      "\n",
      "According to Wayne Hale, \n",
      "a flight director from Johnson Space Center, the Space Shuttle orbiter represents a “huge technological leap from expendable rockets and capsules \n",
      "to a reusable, winged, hypersonic, cargo-carrying spacecraft.” Although her base structure followed a conventional aircraft design, \n",
      "she used advanced materials that both minimized her weight for cargo-carrying purposes and featured low thermal expansion ratios, which provided\n",
      "a stable base for her Thermal Protection System (TPS) materials. Including her maiden voyage \n",
      "(launched August 30, 1984), Discovery flew to space thirty-nine times, more than any of the other four orbiters; she was also the first orbiter \n",
      "to fly twenty missions.\n"
     ]
    }
   ],
   "source": [
    "print(\"*\"*50)\n",
    "print(\"Summary of the text\")\n",
    "print(\"Length of summarized text:\",len(summary))\n",
    "print(\"*\"*50,'\\n')\n",
    "print(summary)"
   ]
  },
  {
   "cell_type": "code",
   "execution_count": null,
   "id": "b6ff112a-184a-4c64-a8aa-8ae9df360ee5",
   "metadata": {},
   "outputs": [],
   "source": []
  }
 ],
 "metadata": {
  "kernelspec": {
   "display_name": "Python 3 (ipykernel)",
   "language": "python",
   "name": "python3"
  },
  "language_info": {
   "codemirror_mode": {
    "name": "ipython",
    "version": 3
   },
   "file_extension": ".py",
   "mimetype": "text/x-python",
   "name": "python",
   "nbconvert_exporter": "python",
   "pygments_lexer": "ipython3",
   "version": "3.12.0"
  }
 },
 "nbformat": 4,
 "nbformat_minor": 5
}
